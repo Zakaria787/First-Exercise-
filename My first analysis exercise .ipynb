{
 "cells": [
  {
   "cell_type": "markdown",
   "id": "1ee6c0ef",
   "metadata": {},
   "source": [
    "## Objective of this exercise is to produce analysis report  \n",
    "_Here is the [DATA](https://docs.google.com/spreadsheets/d/15ffx-47yoKUZYhUb5IJbZ6_0rPXq0yg5o6V216bTPJA/edit#gid=770993173) in use._"
   ]
  },
  {
   "cell_type": "code",
   "execution_count": 20,
   "id": "787dde2d",
   "metadata": {},
   "outputs": [],
   "source": [
    "import numpy as np\n",
    "import pandas as pd\n",
    "import matplotlib.pyplot as plt\n",
    "import seaborn as sns\n",
    "import scipy.stats as st\n",
    "\n",
    "\n",
    "%matplotlib inline"
   ]
  },
  {
   "cell_type": "code",
   "execution_count": 21,
   "id": "0310ef4a",
   "metadata": {
    "scrolled": true
   },
   "outputs": [
    {
     "data": {
      "text/html": [
       "<div>\n",
       "<style scoped>\n",
       "    .dataframe tbody tr th:only-of-type {\n",
       "        vertical-align: middle;\n",
       "    }\n",
       "\n",
       "    .dataframe tbody tr th {\n",
       "        vertical-align: top;\n",
       "    }\n",
       "\n",
       "    .dataframe thead th {\n",
       "        text-align: right;\n",
       "    }\n",
       "</style>\n",
       "<table border=\"1\" class=\"dataframe\">\n",
       "  <thead>\n",
       "    <tr style=\"text-align: right;\">\n",
       "      <th></th>\n",
       "      <th>Database Identifier</th>\n",
       "      <th>Category</th>\n",
       "      <th>Priority Assigned</th>\n",
       "      <th>Local Intervention required</th>\n",
       "      <th>Time to fix</th>\n",
       "      <th>Date</th>\n",
       "      <th>Robot Name</th>\n",
       "    </tr>\n",
       "  </thead>\n",
       "  <tbody>\n",
       "    <tr>\n",
       "      <th>0</th>\n",
       "      <td>DBE-653</td>\n",
       "      <td>Hardware (wiring)</td>\n",
       "      <td>Low</td>\n",
       "      <td>No</td>\n",
       "      <td>60</td>\n",
       "      <td>3/9/2022</td>\n",
       "      <td>Robot003</td>\n",
       "    </tr>\n",
       "    <tr>\n",
       "      <th>1</th>\n",
       "      <td>DBE-654</td>\n",
       "      <td>Hardware (wiring)</td>\n",
       "      <td>Medium</td>\n",
       "      <td>No</td>\n",
       "      <td>5</td>\n",
       "      <td>4/12/2022</td>\n",
       "      <td>Robot003</td>\n",
       "    </tr>\n",
       "    <tr>\n",
       "      <th>2</th>\n",
       "      <td>DBE-655</td>\n",
       "      <td>Hardware (wiring)</td>\n",
       "      <td>Urgent</td>\n",
       "      <td>No</td>\n",
       "      <td>15</td>\n",
       "      <td>2/28/2022</td>\n",
       "      <td>Robot005</td>\n",
       "    </tr>\n",
       "    <tr>\n",
       "      <th>3</th>\n",
       "      <td>DBE-656</td>\n",
       "      <td>Hardware (wiring)</td>\n",
       "      <td>Medium</td>\n",
       "      <td>No</td>\n",
       "      <td>300</td>\n",
       "      <td>4/8/2022</td>\n",
       "      <td>Robot003</td>\n",
       "    </tr>\n",
       "    <tr>\n",
       "      <th>4</th>\n",
       "      <td>DBE-657</td>\n",
       "      <td>Hardware (wiring)</td>\n",
       "      <td>Medium</td>\n",
       "      <td>Yes</td>\n",
       "      <td>30</td>\n",
       "      <td>1/16/2022</td>\n",
       "      <td>Robot012</td>\n",
       "    </tr>\n",
       "    <tr>\n",
       "      <th>...</th>\n",
       "      <td>...</td>\n",
       "      <td>...</td>\n",
       "      <td>...</td>\n",
       "      <td>...</td>\n",
       "      <td>...</td>\n",
       "      <td>...</td>\n",
       "      <td>...</td>\n",
       "    </tr>\n",
       "    <tr>\n",
       "      <th>141</th>\n",
       "      <td>DBE-794</td>\n",
       "      <td>Software (planned test)</td>\n",
       "      <td>Low</td>\n",
       "      <td>No</td>\n",
       "      <td>15</td>\n",
       "      <td>2/1/2022</td>\n",
       "      <td>Robot012</td>\n",
       "    </tr>\n",
       "    <tr>\n",
       "      <th>142</th>\n",
       "      <td>DBE-795</td>\n",
       "      <td>Hardware (wiring)</td>\n",
       "      <td>Medium</td>\n",
       "      <td>No</td>\n",
       "      <td>15</td>\n",
       "      <td>2/10/2022</td>\n",
       "      <td>Robot003</td>\n",
       "    </tr>\n",
       "    <tr>\n",
       "      <th>143</th>\n",
       "      <td>DBE-796</td>\n",
       "      <td>External event</td>\n",
       "      <td>Urgent</td>\n",
       "      <td>Yes</td>\n",
       "      <td>300</td>\n",
       "      <td>1/19/2022</td>\n",
       "      <td>Robot003</td>\n",
       "    </tr>\n",
       "    <tr>\n",
       "      <th>144</th>\n",
       "      <td>DBE-797</td>\n",
       "      <td>Hardware (wiring)</td>\n",
       "      <td>Low</td>\n",
       "      <td>No</td>\n",
       "      <td>60</td>\n",
       "      <td>4/21/2022</td>\n",
       "      <td>Robot010</td>\n",
       "    </tr>\n",
       "    <tr>\n",
       "      <th>145</th>\n",
       "      <td>DBE-798</td>\n",
       "      <td>Software (known issue)</td>\n",
       "      <td>Low</td>\n",
       "      <td>No</td>\n",
       "      <td>300</td>\n",
       "      <td>1/5/2022</td>\n",
       "      <td>Robot007</td>\n",
       "    </tr>\n",
       "  </tbody>\n",
       "</table>\n",
       "<p>146 rows × 7 columns</p>\n",
       "</div>"
      ],
      "text/plain": [
       "    Database Identifier                 Category Priority Assigned  \\\n",
       "0               DBE-653        Hardware (wiring)               Low   \n",
       "1               DBE-654        Hardware (wiring)            Medium   \n",
       "2               DBE-655        Hardware (wiring)            Urgent   \n",
       "3               DBE-656        Hardware (wiring)            Medium   \n",
       "4               DBE-657        Hardware (wiring)            Medium   \n",
       "..                  ...                      ...               ...   \n",
       "141             DBE-794  Software (planned test)               Low   \n",
       "142             DBE-795        Hardware (wiring)            Medium   \n",
       "143             DBE-796           External event            Urgent   \n",
       "144             DBE-797        Hardware (wiring)               Low   \n",
       "145             DBE-798   Software (known issue)               Low   \n",
       "\n",
       "    Local Intervention required  Time to fix       Date Robot Name  \n",
       "0                            No           60   3/9/2022   Robot003  \n",
       "1                            No            5  4/12/2022   Robot003  \n",
       "2                            No           15  2/28/2022   Robot005  \n",
       "3                            No          300   4/8/2022   Robot003  \n",
       "4                           Yes           30  1/16/2022   Robot012  \n",
       "..                          ...          ...        ...        ...  \n",
       "141                          No           15   2/1/2022   Robot012  \n",
       "142                          No           15  2/10/2022   Robot003  \n",
       "143                         Yes          300  1/19/2022   Robot003  \n",
       "144                          No           60  4/21/2022   Robot010  \n",
       "145                          No          300   1/5/2022   Robot007  \n",
       "\n",
       "[146 rows x 7 columns]"
      ]
     },
     "execution_count": 21,
     "metadata": {},
     "output_type": "execute_result"
    }
   ],
   "source": [
    "df = pd.read_csv('Chief of Staff _ Do-At-Home Challenge _ 2022 _ Data.csv')\n",
    "df"
   ]
  },
  {
   "cell_type": "code",
   "execution_count": 3,
   "id": "f6a3f8ee",
   "metadata": {},
   "outputs": [
    {
     "data": {
      "text/plain": [
       "(146, 7)"
      ]
     },
     "execution_count": 3,
     "metadata": {},
     "output_type": "execute_result"
    }
   ],
   "source": [
    "df.shape"
   ]
  },
  {
   "cell_type": "code",
   "execution_count": 4,
   "id": "cd906641",
   "metadata": {
    "scrolled": true
   },
   "outputs": [
    {
     "name": "stdout",
     "output_type": "stream",
     "text": [
      "<class 'pandas.core.frame.DataFrame'>\n",
      "RangeIndex: 146 entries, 0 to 145\n",
      "Data columns (total 7 columns):\n",
      " #   Column                       Non-Null Count  Dtype \n",
      "---  ------                       --------------  ----- \n",
      " 0   Database Identifier          146 non-null    object\n",
      " 1   Category                     146 non-null    object\n",
      " 2   Priority Assigned            146 non-null    object\n",
      " 3   Local Intervention required  146 non-null    object\n",
      " 4   Time to fix                  146 non-null    int64 \n",
      " 5   Date                         146 non-null    object\n",
      " 6   Robot Name                   146 non-null    object\n",
      "dtypes: int64(1), object(6)\n",
      "memory usage: 8.1+ KB\n"
     ]
    }
   ],
   "source": [
    "df.info()"
   ]
  },
  {
   "cell_type": "code",
   "execution_count": 5,
   "id": "cea10cc5",
   "metadata": {},
   "outputs": [
    {
     "data": {
      "text/html": [
       "<div>\n",
       "<style scoped>\n",
       "    .dataframe tbody tr th:only-of-type {\n",
       "        vertical-align: middle;\n",
       "    }\n",
       "\n",
       "    .dataframe tbody tr th {\n",
       "        vertical-align: top;\n",
       "    }\n",
       "\n",
       "    .dataframe thead th {\n",
       "        text-align: right;\n",
       "    }\n",
       "</style>\n",
       "<table border=\"1\" class=\"dataframe\">\n",
       "  <thead>\n",
       "    <tr style=\"text-align: right;\">\n",
       "      <th></th>\n",
       "      <th>Time to fix</th>\n",
       "    </tr>\n",
       "  </thead>\n",
       "  <tbody>\n",
       "    <tr>\n",
       "      <th>count</th>\n",
       "      <td>146.000000</td>\n",
       "    </tr>\n",
       "    <tr>\n",
       "      <th>mean</th>\n",
       "      <td>83.013699</td>\n",
       "    </tr>\n",
       "    <tr>\n",
       "      <th>std</th>\n",
       "      <td>98.901692</td>\n",
       "    </tr>\n",
       "    <tr>\n",
       "      <th>min</th>\n",
       "      <td>5.000000</td>\n",
       "    </tr>\n",
       "    <tr>\n",
       "      <th>25%</th>\n",
       "      <td>15.000000</td>\n",
       "    </tr>\n",
       "    <tr>\n",
       "      <th>50%</th>\n",
       "      <td>30.000000</td>\n",
       "    </tr>\n",
       "    <tr>\n",
       "      <th>75%</th>\n",
       "      <td>120.000000</td>\n",
       "    </tr>\n",
       "    <tr>\n",
       "      <th>max</th>\n",
       "      <td>360.000000</td>\n",
       "    </tr>\n",
       "  </tbody>\n",
       "</table>\n",
       "</div>"
      ],
      "text/plain": [
       "       Time to fix\n",
       "count   146.000000\n",
       "mean     83.013699\n",
       "std      98.901692\n",
       "min       5.000000\n",
       "25%      15.000000\n",
       "50%      30.000000\n",
       "75%     120.000000\n",
       "max     360.000000"
      ]
     },
     "execution_count": 5,
     "metadata": {},
     "output_type": "execute_result"
    }
   ],
   "source": [
    "df.describe()"
   ]
  },
  {
   "cell_type": "code",
   "execution_count": 6,
   "id": "96c12cdc",
   "metadata": {
    "scrolled": true
   },
   "outputs": [
    {
     "data": {
      "text/plain": [
       "count    146.000000\n",
       "mean      83.013699\n",
       "std       98.901692\n",
       "min        5.000000\n",
       "25%       15.000000\n",
       "50%       30.000000\n",
       "75%      120.000000\n",
       "max      360.000000\n",
       "Name: Time to fix, dtype: float64"
      ]
     },
     "execution_count": 6,
     "metadata": {},
     "output_type": "execute_result"
    }
   ],
   "source": [
    "df['Time to fix'].describe()"
   ]
  },
  {
   "cell_type": "code",
   "execution_count": 7,
   "id": "75981a3c",
   "metadata": {
    "scrolled": true
   },
   "outputs": [
    {
     "data": {
      "text/plain": [
       "83.01369863013699"
      ]
     },
     "execution_count": 7,
     "metadata": {},
     "output_type": "execute_result"
    }
   ],
   "source": [
    "df['Time to fix'].mean()"
   ]
  },
  {
   "cell_type": "code",
   "execution_count": 8,
   "id": "1bffa47e",
   "metadata": {},
   "outputs": [
    {
     "data": {
      "text/plain": [
       "30.0"
      ]
     },
     "execution_count": 8,
     "metadata": {},
     "output_type": "execute_result"
    }
   ],
   "source": [
    "df['Time to fix'].median()"
   ]
  },
  {
   "cell_type": "code",
   "execution_count": 9,
   "id": "39695141",
   "metadata": {
    "scrolled": true
   },
   "outputs": [
    {
     "data": {
      "text/plain": [
       "<AxesSubplot:>"
      ]
     },
     "execution_count": 9,
     "metadata": {},
     "output_type": "execute_result"
    },
    {
     "data": {
      "image/png": "[encoded data removed]",
      "text/plain": [
       "<Figure size 1008x432 with 1 Axes>"
      ]
     },
     "metadata": {
      "needs_background": "light"
     },
     "output_type": "display_data"
    }
   ],
   "source": [
    "df['Time to fix'].plot(kind='box', vert=False, figsize=(14,6))"
   ]
  },
  {
   "cell_type": "code",
   "execution_count": 10,
   "id": "85fe2e85",
   "metadata": {},
   "outputs": [
    {
     "data": {
      "text/plain": [
       "<AxesSubplot:ylabel='Density'>"
      ]
     },
     "execution_count": 10,
     "metadata": {},
     "output_type": "execute_result"
    },
    {
     "data": {
      "image/png": "[encoded data removed]",
      "text/plain": [
       "<Figure size 1008x432 with 1 Axes>"
      ]
     },
     "metadata": {
      "needs_background": "light"
     },
     "output_type": "display_data"
    }
   ],
   "source": [
    "df['Time to fix'].plot(kind='density', figsize=(14,6)) "
   ]
  },
  {
   "cell_type": "code",
   "execution_count": 11,
   "id": "e812471e",
   "metadata": {},
   "outputs": [
    {
     "data": {
      "text/plain": [
       "<matplotlib.lines.Line2D at 0x7fec904eed60>"
      ]
     },
     "execution_count": 11,
     "metadata": {},
     "output_type": "execute_result"
    },
    {
     "data": {
      "image/png": "[encoded data removed]",
      "text/plain": [
       "<Figure size 1008x432 with 1 Axes>"
      ]
     },
     "metadata": {
      "needs_background": "light"
     },
     "output_type": "display_data"
    }
   ],
   "source": [
    "ax=df['Time to fix'].plot(kind='density', figsize=(14,6)) \n",
    "ax.axvline(df['Time to fix'].mean(), color='red')\n",
    "ax.axvline(df['Time to fix'].median(), color='green')\n"
   ]
  },
  {
   "cell_type": "code",
   "execution_count": 12,
   "id": "248a449b",
   "metadata": {},
   "outputs": [
    {
     "data": {
      "text/plain": [
       "Text(0.5, 0, 'Priority Assigned')"
      ]
     },
     "execution_count": 12,
     "metadata": {},
     "output_type": "execute_result"
    },
    {
     "data": {
      "image/png": "[encoded data removed]",
      "text/plain": [
       "<Figure size 1008x432 with 1 Axes>"
      ]
     },
     "metadata": {
      "needs_background": "light"
     },
     "output_type": "display_data"
    }
   ],
   "source": [
    "ax=df['Time to fix'].plot(kind='hist', figsize=(14,6)) \n",
    "ax.set_ylabel('Category')\n",
    "ax.set_xlabel('Priority Assigned')\n"
   ]
  },
  {
   "cell_type": "code",
   "execution_count": 13,
   "id": "8a09e5a5",
   "metadata": {},
   "outputs": [
    {
     "data": {
      "text/plain": [
       "No     113\n",
       "Yes     33\n",
       "Name: Local Intervention required, dtype: int64"
      ]
     },
     "execution_count": 13,
     "metadata": {},
     "output_type": "execute_result"
    }
   ],
   "source": [
    "df['Local Intervention required'].value_counts()"
   ]
  },
  {
   "cell_type": "code",
   "execution_count": 14,
   "id": "e0bf20ee",
   "metadata": {},
   "outputs": [
    {
     "data": {
      "text/plain": [
       "<AxesSubplot:ylabel='Local Intervention required'>"
      ]
     },
     "execution_count": 14,
     "metadata": {},
     "output_type": "execute_result"
    },
    {
     "data": {
      "image/png": "[encoded data removed]",
      "text/plain": [
       "<Figure size 432x432 with 1 Axes>"
      ]
     },
     "metadata": {},
     "output_type": "display_data"
    }
   ],
   "source": [
    "df['Local Intervention required'].value_counts().plot(kind='pie', figsize=(6,6))"
   ]
  },
  {
   "cell_type": "code",
   "execution_count": 15,
   "id": "c9c4b06a",
   "metadata": {
    "scrolled": true
   },
   "outputs": [
    {
     "data": {
      "text/plain": [
       "Text(0, 0.5, 'Time to fix')"
      ]
     },
     "execution_count": 15,
     "metadata": {},
     "output_type": "execute_result"
    },
    {
     "data": {
      "image/png": "[encoded data removed]",
      "text/plain": [
       "<Figure size 1008x432 with 1 Axes>"
      ]
     },
     "metadata": {
      "needs_background": "light"
     },
     "output_type": "display_data"
    }
   ],
   "source": [
    "ax = df['Local Intervention required'].value_counts().plot(kind='bar', figsize=(14,6))\n",
    "ax.set_ylabel('Time to fix')"
   ]
  },
  {
   "cell_type": "code",
   "execution_count": 16,
   "id": "ac01c4e6",
   "metadata": {},
   "outputs": [
    {
     "data": {
      "text/html": [
       "<div>\n",
       "<style scoped>\n",
       "    .dataframe tbody tr th:only-of-type {\n",
       "        vertical-align: middle;\n",
       "    }\n",
       "\n",
       "    .dataframe tbody tr th {\n",
       "        vertical-align: top;\n",
       "    }\n",
       "\n",
       "    .dataframe thead th {\n",
       "        text-align: right;\n",
       "    }\n",
       "</style>\n",
       "<table border=\"1\" class=\"dataframe\">\n",
       "  <thead>\n",
       "    <tr style=\"text-align: right;\">\n",
       "      <th></th>\n",
       "      <th>Time to fix</th>\n",
       "    </tr>\n",
       "  </thead>\n",
       "  <tbody>\n",
       "    <tr>\n",
       "      <th>Time to fix</th>\n",
       "      <td>1.0</td>\n",
       "    </tr>\n",
       "  </tbody>\n",
       "</table>\n",
       "</div>"
      ],
      "text/plain": [
       "             Time to fix\n",
       "Time to fix          1.0"
      ]
     },
     "execution_count": 16,
     "metadata": {},
     "output_type": "execute_result"
    }
   ],
   "source": [
    "corr = df.corr()\n",
    "\n",
    "corr"
   ]
  },
  {
   "cell_type": "code",
   "execution_count": 17,
   "id": "4c1454d8",
   "metadata": {},
   "outputs": [
    {
     "data": {
      "image/png": "[encoded data removed]",
      "text/plain": [
       "<Figure size 576x576 with 1 Axes>"
      ]
     },
     "metadata": {
      "needs_background": "light"
     },
     "output_type": "display_data"
    }
   ],
   "source": [
    "fig = plt.figure(figsize=(8,8))\n",
    "plt.matshow(corr, cmap='RdBu', fignum=fig.number)\n",
    "plt.xticks(range(len(corr.columns)), corr.columns, rotation='vertical');\n",
    "plt.yticks(range(len(corr.columns)), corr.columns);"
   ]
  },
  {
   "cell_type": "code",
   "execution_count": 18,
   "id": "f960df12",
   "metadata": {},
   "outputs": [
    {
     "data": {
      "text/plain": [
       "<AxesSubplot:xlabel='Time to fix', ylabel='Priority Assigned'>"
      ]
     },
     "execution_count": 18,
     "metadata": {},
     "output_type": "execute_result"
    },
    {
     "data": {
      "image/png": "[encoded data removed]",
      "text/plain": [
       "<Figure size 432x432 with 1 Axes>"
      ]
     },
     "metadata": {
      "needs_background": "light"
     },
     "output_type": "display_data"
    }
   ],
   "source": [
    "df.plot(kind='scatter', x='Time to fix', y='Priority Assigned', figsize=(6,6))\n"
   ]
  },
  {
   "cell_type": "code",
   "execution_count": 19,
   "id": "2052b902",
   "metadata": {},
   "outputs": [
    {
     "data": {
      "text/plain": [
       "Text(0, 0.5, 'Time to fix')"
      ]
     },
     "execution_count": 19,
     "metadata": {},
     "output_type": "execute_result"
    },
    {
     "data": {
      "image/png": "[encoded data removed]",
      "text/plain": [
       "<Figure size 720x432 with 1 Axes>"
      ]
     },
     "metadata": {
      "needs_background": "light"
     },
     "output_type": "display_data"
    }
   ],
   "source": [
    "ax = df[['Time to fix', 'Local Intervention required']].boxplot(by='Local Intervention required', figsize=(10,6))\n",
    "ax.set_ylabel('Time to fix')"
   ]
  },
  {
   "cell_type": "code",
   "execution_count": null,
   "id": "8116aa34",
   "metadata": {},
   "outputs": [],
   "source": []
  }
 ],
 "metadata": {
  "kernelspec": {
   "display_name": "Python 3 (ipykernel)",
   "language": "python",
   "name": "python3"
  },
  "language_info": {
   "codemirror_mode": {
    "name": "ipython",
    "version": 3
   },
   "file_extension": ".py",
   "mimetype": "text/x-python",
   "name": "python",
   "nbconvert_exporter": "python",
   "pygments_lexer": "ipython3",
   "version": "3.9.12"
  }
 },
 "nbformat": 4,
 "nbformat_minor": 5
}
